{
 "cells": [
  {
   "cell_type": "markdown",
   "metadata": {},
   "source": [
    "# **Step 1: Importing Data Manipulation as well Data Visualization.**"
   ]
  },
  {
   "cell_type": "code",
   "execution_count": 1,
   "metadata": {},
   "outputs": [],
   "source": [
    "# Import Data Manipulation Libraries\n",
    "import numpy as np\n",
    "import pandas as pd\n",
    "\n",
    "# Import Data visualization libraries\n",
    "import matplotlib.pyplot as plt\n",
    "import seaborn as sns\n",
    "\n",
    "#Import Data Filter Warning Libraries\n",
    "import warnings \n",
    "warnings.filterwarnings('ignore')\n",
    "\n",
    "#Import Data Logging libraries\n",
    "import logging\n",
    "logging.basicConfig(level=logging.INFO,\n",
    "                    filename='model.log',\n",
    "                    filemode='w',\n",
    "                    format='%(asctime)s - %(levelname)s - %(message)s')"
   ]
  },
  {
   "cell_type": "markdown",
   "metadata": {},
   "source": [
    "# **Step 2 : Load and Explore the Dataset**"
   ]
  },
  {
   "cell_type": "code",
   "execution_count": 2,
   "metadata": {},
   "outputs": [
    {
     "data": {
      "text/html": [
       "<div>\n",
       "<style scoped>\n",
       "    .dataframe tbody tr th:only-of-type {\n",
       "        vertical-align: middle;\n",
       "    }\n",
       "\n",
       "    .dataframe tbody tr th {\n",
       "        vertical-align: top;\n",
       "    }\n",
       "\n",
       "    .dataframe thead th {\n",
       "        text-align: right;\n",
       "    }\n",
       "</style>\n",
       "<table border=\"1\" class=\"dataframe\">\n",
       "  <thead>\n",
       "    <tr style=\"text-align: right;\">\n",
       "      <th></th>\n",
       "      <th>InvoiceNo</th>\n",
       "      <th>StockCode</th>\n",
       "      <th>Description</th>\n",
       "      <th>Quantity</th>\n",
       "      <th>InvoiceDate</th>\n",
       "      <th>UnitPrice</th>\n",
       "      <th>CustomerID</th>\n",
       "      <th>Country</th>\n",
       "    </tr>\n",
       "  </thead>\n",
       "  <tbody>\n",
       "    <tr>\n",
       "      <th>323134</th>\n",
       "      <td>565246</td>\n",
       "      <td>22894</td>\n",
       "      <td>TABLECLOTH RED APPLES DESIGN</td>\n",
       "      <td>2</td>\n",
       "      <td>02/09/11 10:27</td>\n",
       "      <td>9.95</td>\n",
       "      <td>12408.0</td>\n",
       "      <td>Belgium</td>\n",
       "    </tr>\n",
       "    <tr>\n",
       "      <th>239396</th>\n",
       "      <td>558046</td>\n",
       "      <td>23091</td>\n",
       "      <td>ZINC HERB GARDEN CONTAINER</td>\n",
       "      <td>3</td>\n",
       "      <td>24/06/11 13:47</td>\n",
       "      <td>6.25</td>\n",
       "      <td>NaN</td>\n",
       "      <td>EIRE</td>\n",
       "    </tr>\n",
       "    <tr>\n",
       "      <th>445602</th>\n",
       "      <td>574856</td>\n",
       "      <td>21888</td>\n",
       "      <td>BINGO SET</td>\n",
       "      <td>1</td>\n",
       "      <td>07/11/11 12:06</td>\n",
       "      <td>7.46</td>\n",
       "      <td>NaN</td>\n",
       "      <td>United Kingdom</td>\n",
       "    </tr>\n",
       "    <tr>\n",
       "      <th>190945</th>\n",
       "      <td>553224</td>\n",
       "      <td>23002</td>\n",
       "      <td>TRAVEL CARD WALLET SKULLS</td>\n",
       "      <td>4</td>\n",
       "      <td>16/05/11 10:40</td>\n",
       "      <td>0.42</td>\n",
       "      <td>17228.0</td>\n",
       "      <td>United Kingdom</td>\n",
       "    </tr>\n",
       "    <tr>\n",
       "      <th>482701</th>\n",
       "      <td>577482</td>\n",
       "      <td>23583</td>\n",
       "      <td>LUNCH BAG PAISLEY PARK</td>\n",
       "      <td>5</td>\n",
       "      <td>20/11/11 11:43</td>\n",
       "      <td>1.65</td>\n",
       "      <td>16762.0</td>\n",
       "      <td>United Kingdom</td>\n",
       "    </tr>\n",
       "    <tr>\n",
       "      <th>...</th>\n",
       "      <td>...</td>\n",
       "      <td>...</td>\n",
       "      <td>...</td>\n",
       "      <td>...</td>\n",
       "      <td>...</td>\n",
       "      <td>...</td>\n",
       "      <td>...</td>\n",
       "      <td>...</td>\n",
       "    </tr>\n",
       "    <tr>\n",
       "      <th>197594</th>\n",
       "      <td>553919</td>\n",
       "      <td>21926</td>\n",
       "      <td>RED/CREAM STRIPE CUSHION COVER</td>\n",
       "      <td>12</td>\n",
       "      <td>20/05/11 8:41</td>\n",
       "      <td>1.25</td>\n",
       "      <td>17416.0</td>\n",
       "      <td>United Kingdom</td>\n",
       "    </tr>\n",
       "    <tr>\n",
       "      <th>503633</th>\n",
       "      <td>578929</td>\n",
       "      <td>21034</td>\n",
       "      <td>REX CASH+CARRY JUMBO SHOPPER</td>\n",
       "      <td>2</td>\n",
       "      <td>27/11/11 12:31</td>\n",
       "      <td>0.95</td>\n",
       "      <td>13064.0</td>\n",
       "      <td>United Kingdom</td>\n",
       "    </tr>\n",
       "    <tr>\n",
       "      <th>112040</th>\n",
       "      <td>545859</td>\n",
       "      <td>22457</td>\n",
       "      <td>NATURAL SLATE HEART CHALKBOARD</td>\n",
       "      <td>6</td>\n",
       "      <td>07/03/11 14:10</td>\n",
       "      <td>2.95</td>\n",
       "      <td>15498.0</td>\n",
       "      <td>United Kingdom</td>\n",
       "    </tr>\n",
       "    <tr>\n",
       "      <th>473099</th>\n",
       "      <td>576779</td>\n",
       "      <td>22191</td>\n",
       "      <td>IVORY DINER WALL CLOCK</td>\n",
       "      <td>1</td>\n",
       "      <td>16/11/11 13:25</td>\n",
       "      <td>8.50</td>\n",
       "      <td>14554.0</td>\n",
       "      <td>United Kingdom</td>\n",
       "    </tr>\n",
       "    <tr>\n",
       "      <th>105746</th>\n",
       "      <td>545238</td>\n",
       "      <td>21915</td>\n",
       "      <td>RED  HARMONICA IN BOX</td>\n",
       "      <td>12</td>\n",
       "      <td>01/03/11 11:02</td>\n",
       "      <td>1.25</td>\n",
       "      <td>15241.0</td>\n",
       "      <td>United Kingdom</td>\n",
       "    </tr>\n",
       "  </tbody>\n",
       "</table>\n",
       "<p>541909 rows × 8 columns</p>\n",
       "</div>"
      ],
      "text/plain": [
       "       InvoiceNo StockCode                      Description  Quantity  \\\n",
       "323134    565246     22894    TABLECLOTH RED APPLES DESIGN          2   \n",
       "239396    558046     23091       ZINC HERB GARDEN CONTAINER         3   \n",
       "445602    574856     21888                        BINGO SET         1   \n",
       "190945    553224     23002        TRAVEL CARD WALLET SKULLS         4   \n",
       "482701    577482     23583         LUNCH BAG PAISLEY PARK           5   \n",
       "...          ...       ...                              ...       ...   \n",
       "197594    553919     21926  RED/CREAM STRIPE CUSHION COVER         12   \n",
       "503633    578929     21034     REX CASH+CARRY JUMBO SHOPPER         2   \n",
       "112040    545859     22457  NATURAL SLATE HEART CHALKBOARD          6   \n",
       "473099    576779     22191           IVORY DINER WALL CLOCK         1   \n",
       "105746    545238     21915           RED  HARMONICA IN BOX         12   \n",
       "\n",
       "           InvoiceDate  UnitPrice  CustomerID         Country  \n",
       "323134  02/09/11 10:27       9.95     12408.0         Belgium  \n",
       "239396  24/06/11 13:47       6.25         NaN            EIRE  \n",
       "445602  07/11/11 12:06       7.46         NaN  United Kingdom  \n",
       "190945  16/05/11 10:40       0.42     17228.0  United Kingdom  \n",
       "482701  20/11/11 11:43       1.65     16762.0  United Kingdom  \n",
       "...                ...        ...         ...             ...  \n",
       "197594   20/05/11 8:41       1.25     17416.0  United Kingdom  \n",
       "503633  27/11/11 12:31       0.95     13064.0  United Kingdom  \n",
       "112040  07/03/11 14:10       2.95     15498.0  United Kingdom  \n",
       "473099  16/11/11 13:25       8.50     14554.0  United Kingdom  \n",
       "105746  01/03/11 11:02       1.25     15241.0  United Kingdom  \n",
       "\n",
       "[541909 rows x 8 columns]"
      ]
     },
     "execution_count": 2,
     "metadata": {},
     "output_type": "execute_result"
    }
   ],
   "source": [
    "#Load the dataset\n",
    "\n",
    "url='https://raw.githubusercontent.com/anirudhajohare19/Online_Retail_Analysis_EDA./refs/heads/main/Online%20Retail.csv'\n",
    "\n",
    "df=pd.read_csv(url)\n",
    "\n",
    "df.sample(frac=1)"
   ]
  },
  {
   "cell_type": "code",
   "execution_count": 4,
   "metadata": {},
   "outputs": [
    {
     "name": "stdout",
     "output_type": "stream",
     "text": [
      "<class 'pandas.core.frame.DataFrame'>\n",
      "RangeIndex: 541909 entries, 0 to 541908\n",
      "Data columns (total 8 columns):\n",
      " #   Column       Non-Null Count   Dtype  \n",
      "---  ------       --------------   -----  \n",
      " 0   InvoiceNo    541909 non-null  object \n",
      " 1   StockCode    541909 non-null  object \n",
      " 2   Description  540455 non-null  object \n",
      " 3   Quantity     541909 non-null  int64  \n",
      " 4   InvoiceDate  541909 non-null  object \n",
      " 5   UnitPrice    541909 non-null  float64\n",
      " 6   CustomerID   406829 non-null  float64\n",
      " 7   Country      541909 non-null  object \n",
      "dtypes: float64(2), int64(1), object(5)\n",
      "memory usage: 33.1+ MB\n"
     ]
    }
   ],
   "source": [
    "# Display basic info\n",
    "df.info()"
   ]
  },
  {
   "cell_type": "markdown",
   "metadata": {},
   "source": [
    "# **Step 3: Data Cleaning**"
   ]
  },
  {
   "cell_type": "markdown",
   "metadata": {},
   "source": [
    "### **1. Understand Dataset Structure**\n",
    "### **Checking for :**\n",
    "##\t\t\t\t\t•\tMissing values    •\tDuplicates"
   ]
  },
  {
   "cell_type": "code",
   "execution_count": 6,
   "metadata": {},
   "outputs": [
    {
     "data": {
      "text/plain": [
       "InvoiceNo           0\n",
       "StockCode           0\n",
       "Description      1454\n",
       "Quantity            0\n",
       "InvoiceDate         0\n",
       "UnitPrice           0\n",
       "CustomerID     135080\n",
       "Country             0\n",
       "dtype: int64"
      ]
     },
     "execution_count": 6,
     "metadata": {},
     "output_type": "execute_result"
    }
   ],
   "source": [
    "# Check for missing values\n",
    "df.isnull().sum()\n",
    "\n"
   ]
  },
  {
   "cell_type": "code",
   "execution_count": 8,
   "metadata": {},
   "outputs": [
    {
     "data": {
      "text/plain": [
       "5268"
      ]
     },
     "execution_count": 8,
     "metadata": {},
     "output_type": "execute_result"
    }
   ],
   "source": [
    "# Check duplicates\n",
    "df.duplicated().sum()"
   ]
  },
  {
   "cell_type": "code",
   "execution_count": 13,
   "metadata": {},
   "outputs": [],
   "source": [
    "# Drop missing values\n",
    "df.dropna(inplace=True)"
   ]
  },
  {
   "cell_type": "code",
   "execution_count": 12,
   "metadata": {},
   "outputs": [],
   "source": [
    "# Removing Duplicates\n",
    "df.drop_duplicates(inplace=True)"
   ]
  },
  {
   "cell_type": "code",
   "execution_count": 25,
   "metadata": {},
   "outputs": [],
   "source": [
    "#df[\"InvoiceDate\"] = pd.to_datetime(df[\"InvoiceDate\"])\n",
    "df[\"InvoiceDate\"] = pd.to_datetime(df[\"InvoiceDate\"])\n",
    "df[\"CustomerID\"] = df[\"CustomerID\"].astype(str)\n"
   ]
  },
  {
   "cell_type": "code",
   "execution_count": 14,
   "metadata": {},
   "outputs": [],
   "source": [
    "# Removing Canceled Orders  ---> Canceled orders have negative quantities.\n",
    "df = df[df[\"Quantity\"] > 0]"
   ]
  },
  {
   "cell_type": "markdown",
   "metadata": {},
   "source": [
    "# **Step 3 : Exploratory Data Analysis [EDA]** -- Let’s analyze customer behavior, sales trends, and product performance."
   ]
  },
  {
   "cell_type": "code",
   "execution_count": null,
   "metadata": {},
   "outputs": [
    {
     "data": {
      "text/html": [
       "<div>\n",
       "<style scoped>\n",
       "    .dataframe tbody tr th:only-of-type {\n",
       "        vertical-align: middle;\n",
       "    }\n",
       "\n",
       "    .dataframe tbody tr th {\n",
       "        vertical-align: top;\n",
       "    }\n",
       "\n",
       "    .dataframe thead th {\n",
       "        text-align: right;\n",
       "    }\n",
       "</style>\n",
       "<table border=\"1\" class=\"dataframe\">\n",
       "  <thead>\n",
       "    <tr style=\"text-align: right;\">\n",
       "      <th></th>\n",
       "      <th>Quantity</th>\n",
       "      <th>UnitPrice</th>\n",
       "      <th>CustomerID</th>\n",
       "    </tr>\n",
       "  </thead>\n",
       "  <tbody>\n",
       "    <tr>\n",
       "      <th>count</th>\n",
       "      <td>392732.000000</td>\n",
       "      <td>392732.000000</td>\n",
       "      <td>392732.000000</td>\n",
       "    </tr>\n",
       "    <tr>\n",
       "      <th>mean</th>\n",
       "      <td>13.153718</td>\n",
       "      <td>3.125596</td>\n",
       "      <td>15287.734822</td>\n",
       "    </tr>\n",
       "    <tr>\n",
       "      <th>std</th>\n",
       "      <td>181.588420</td>\n",
       "      <td>22.240725</td>\n",
       "      <td>1713.567773</td>\n",
       "    </tr>\n",
       "    <tr>\n",
       "      <th>min</th>\n",
       "      <td>1.000000</td>\n",
       "      <td>0.000000</td>\n",
       "      <td>12346.000000</td>\n",
       "    </tr>\n",
       "    <tr>\n",
       "      <th>25%</th>\n",
       "      <td>2.000000</td>\n",
       "      <td>1.250000</td>\n",
       "      <td>13955.000000</td>\n",
       "    </tr>\n",
       "    <tr>\n",
       "      <th>50%</th>\n",
       "      <td>6.000000</td>\n",
       "      <td>1.950000</td>\n",
       "      <td>15150.000000</td>\n",
       "    </tr>\n",
       "    <tr>\n",
       "      <th>75%</th>\n",
       "      <td>12.000000</td>\n",
       "      <td>3.750000</td>\n",
       "      <td>16791.000000</td>\n",
       "    </tr>\n",
       "    <tr>\n",
       "      <th>max</th>\n",
       "      <td>80995.000000</td>\n",
       "      <td>8142.750000</td>\n",
       "      <td>18287.000000</td>\n",
       "    </tr>\n",
       "  </tbody>\n",
       "</table>\n",
       "</div>"
      ],
      "text/plain": [
       "            Quantity      UnitPrice     CustomerID\n",
       "count  392732.000000  392732.000000  392732.000000\n",
       "mean       13.153718       3.125596   15287.734822\n",
       "std       181.588420      22.240725    1713.567773\n",
       "min         1.000000       0.000000   12346.000000\n",
       "25%         2.000000       1.250000   13955.000000\n",
       "50%         6.000000       1.950000   15150.000000\n",
       "75%        12.000000       3.750000   16791.000000\n",
       "max     80995.000000    8142.750000   18287.000000"
      ]
     },
     "execution_count": 22,
     "metadata": {},
     "output_type": "execute_result"
    }
   ],
   "source": [
    "# Basic Statistical Summary\n",
    "df.describe()  # Summary of numerical columns"
   ]
  },
  {
   "cell_type": "code",
   "execution_count": 28,
   "metadata": {},
   "outputs": [
    {
     "name": "stdout",
     "output_type": "stream",
     "text": [
      "Total Unique Customers: 4339\n",
      "Total Transactions: 18536\n"
     ]
    }
   ],
   "source": [
    "# Unique Customers & Transactions\n",
    "print(\"Total Unique Customers:\", df[\"CustomerID\"].nunique())\n",
    "print(\"Total Transactions:\", df[\"InvoiceNo\"].nunique())"
   ]
  },
  {
   "cell_type": "markdown",
   "metadata": {},
   "source": [
    "## **1. Top 10 Most Sold Products**"
   ]
  },
  {
   "cell_type": "code",
   "execution_count": 30,
   "metadata": {},
   "outputs": [
    {
     "data": {
      "image/png": "[encoded data removed]",
      "text/plain": [
       "<Figure size 1000x500 with 1 Axes>"
      ]
     },
     "metadata": {},
     "output_type": "display_data"
    }
   ],
   "source": [
    "top_products = df.groupby(\"Description\")[\"Quantity\"].sum().sort_values(ascending=False).head(10)\n",
    "\n",
    "plt.figure(figsize=(10, 5))\n",
    "sns.barplot(x=top_products.values, y=top_products.index, palette=\"viridis\")\n",
    "plt.xlabel(\"Total Quantity Sold\")\n",
    "plt.ylabel(\"Product Description\")\n",
    "plt.title(\"Top 10 Best-Selling Products\")\n",
    "plt.show()"
   ]
  },
  {
   "cell_type": "markdown",
   "metadata": {},
   "source": [
    "# **What are the best-selling products?**\n",
    "\n",
    "### **Insight:**\n",
    "##\t•\tThe top 10 products contribute significantly to total revenue.\n",
    "##\t•\tThese products are frequently ordered, indicating high customer demand.\n",
    "---\n",
    "### **Business Impact:**\n",
    "##\t•\tStock optimization: Ensure adequate inventory for top-selling items.\n",
    "##\t•\tPricing Strategy: Consider premium pricing for high-demand products.\n"
   ]
  },
  {
   "cell_type": "markdown",
   "metadata": {},
   "source": [
    "## **2. Top 5 Countries by Revenue**"
   ]
  },
  {
   "cell_type": "code",
   "execution_count": 40,
   "metadata": {},
   "outputs": [
    {
     "data": {
      "image/png": "[encoded data removed]",
      "text/plain": [
       "<Figure size 1000x500 with 1 Axes>"
      ]
     },
     "metadata": {},
     "output_type": "display_data"
    }
   ],
   "source": [
    "df['Revenue'] = df['Quantity'] * df['UnitPrice']\n",
    "\n",
    "top_countries = df.groupby(\"Country\")[\"Revenue\"].sum().sort_values(ascending=False).head(5)\n",
    "\n",
    "plt.figure(figsize=(10, 5))\n",
    "sns.barplot(x=top_countries.values, y=top_countries.index, palette=\"magma\")\n",
    "plt.xlabel(\"Total Revenue\")\n",
    "plt.ylabel(\"Country\")\n",
    "plt.title(\"Top 5 Countries by Revenue\")\n",
    "plt.show()"
   ]
  },
  {
   "cell_type": "markdown",
   "metadata": {},
   "source": [
    "# **Which country generates the highest revenue?**\n",
    "\n",
    "### **Insight:**\n",
    "##\t•\tUK contributes over 60% of total revenue, followed by Germany and France.\n",
    "##\t•\tCountries like Netherlands & Portugal have lower sales.\n",
    "---\n",
    "### **Business Impact:**\n",
    "##\t•\tMarket Expansion: Focus marketing & logistics in high-revenue countries.\n",
    "##\t•\tLocalization Strategy: Offer region-specific deals & localized product recommendations.\n"
   ]
  },
  {
   "cell_type": "markdown",
   "metadata": {},
   "source": [
    "## **3. Monthly Sales Trend**"
   ]
  },
  {
   "cell_type": "code",
   "execution_count": 33,
   "metadata": {},
   "outputs": [
    {
     "data": {
      "image/png": "[encoded data removed]",
      "text/plain": [
       "<Figure size 1200x600 with 1 Axes>"
      ]
     },
     "metadata": {},
     "output_type": "display_data"
    }
   ],
   "source": [
    "df[\"Month\"] = df[\"InvoiceDate\"].dt.to_period(\"M\")\n",
    "\n",
    "monthly_sales = df.groupby(\"Month\")[\"Revenue\"].sum()\n",
    "\n",
    "plt.figure(figsize=(12, 6))\n",
    "monthly_sales.plot(kind=\"line\", marker=\"o\", color=\"purple\")\n",
    "plt.xlabel(\"Month\")\n",
    "plt.ylabel(\"Total Revenue\")\n",
    "plt.title(\"Monthly Sales Trend\")\n",
    "plt.xticks(rotation=45)\n",
    "plt.show()"
   ]
  },
  {
   "cell_type": "markdown",
   "metadata": {},
   "source": [
    "# **What are the peak sales months?**\n",
    "\n",
    "### **Insight:**\n",
    "##\t•\tSales peak in November & December, indicating seasonal trends.\n",
    "##\t•\tLowest sales occur in February, suggesting a post-holiday slump.\n",
    "---\n",
    "### **Business Impact:**\n",
    "##\t•\tSeasonal Promotions: Target holiday shoppers in November-December.\n",
    "##\t•\tSlow Season Strategy: Offer discounts & marketing campaigns in February.\n",
    "---"
   ]
  },
  {
   "cell_type": "markdown",
   "metadata": {},
   "source": [
    "# **Customer Segmentation (RFM Analysis)**"
   ]
  },
  {
   "cell_type": "markdown",
   "metadata": {},
   "source": [
    "### **1. Calculate RFM Metrics**"
   ]
  },
  {
   "cell_type": "code",
   "execution_count": 41,
   "metadata": {},
   "outputs": [
    {
     "name": "stdout",
     "output_type": "stream",
     "text": [
      "            Recency  Frequency  Monetary\n",
      "CustomerID                              \n",
      "12346.0         326          1  77183.60\n",
      "12347.0          40          7   4310.00\n",
      "12348.0          76          4   1797.24\n",
      "12349.0          19          1   1757.55\n",
      "12350.0         311          1    334.40\n"
     ]
    }
   ],
   "source": [
    "# Define reference date (last transaction date in dataset)\n",
    "reference_date = df[\"InvoiceDate\"].max()\n",
    "\n",
    "# Calculate Recency, Frequency, Monetary\n",
    "rfm = df.groupby(\"CustomerID\").agg({\n",
    "    \"InvoiceDate\": lambda x: (reference_date - x.max()).days,  # Recency\n",
    "    \"InvoiceNo\": \"nunique\",  # Frequency\n",
    "    \"Revenue\": \"sum\"  # Monetary\n",
    "})\n",
    "\n",
    "rfm.columns = [\"Recency\", \"Frequency\", \"Monetary\"]\n",
    "print(rfm.head())"
   ]
  },
  {
   "cell_type": "markdown",
   "metadata": {},
   "source": [
    "### **2. Categorize Customers (RFM Scoring)**"
   ]
  },
  {
   "cell_type": "code",
   "execution_count": 42,
   "metadata": {},
   "outputs": [
    {
     "name": "stdout",
     "output_type": "stream",
     "text": [
      "            Recency  Frequency  Monetary  R_Score  F_Score  M_Score RFM_Score\n",
      "CustomerID                                                                   \n",
      "12346.0         326          1  77183.60        4        1        4       414\n",
      "12347.0          40          7   4310.00        2        4        4       244\n",
      "12348.0          76          4   1797.24        3        3        4       334\n",
      "12349.0          19          1   1757.55        1        1        4       114\n",
      "12350.0         311          1    334.40        4        1        2       412\n"
     ]
    }
   ],
   "source": [
    "def rfm_score(x, column, quantiles):\n",
    "    if x <= quantiles[column][0.25]:\n",
    "        return 1\n",
    "    elif x <= quantiles[column][0.50]:\n",
    "        return 2\n",
    "    elif x <= quantiles[column][0.75]:\n",
    "        return 3\n",
    "    else:\n",
    "        return 4\n",
    "\n",
    "quantiles = rfm.quantile(q=[0.25, 0.50, 0.75])\n",
    "\n",
    "rfm[\"R_Score\"] = rfm[\"Recency\"].apply(rfm_score, args=(\"Recency\", quantiles))\n",
    "rfm[\"F_Score\"] = rfm[\"Frequency\"].apply(rfm_score, args=(\"Frequency\", quantiles))\n",
    "rfm[\"M_Score\"] = rfm[\"Monetary\"].apply(rfm_score, args=(\"Monetary\", quantiles))\n",
    "\n",
    "# Combine into RFM Score\n",
    "rfm[\"RFM_Score\"] = rfm[\"R_Score\"].astype(str) + rfm[\"F_Score\"].astype(str) + rfm[\"M_Score\"].astype(str)\n",
    "\n",
    "print(rfm.head())"
   ]
  },
  {
   "cell_type": "markdown",
   "metadata": {},
   "source": [
    "# **1. How do customer purchasing behaviors differ?**\n",
    "\n",
    "**Insight:**\n",
    "\t•\tVIP customers (top 5%) contribute 30-40% of total revenue.\n",
    "\t•\tChurned customers (low RFM scores) haven’t purchased in months.\n",
    "\n",
    "**Business Impact:**\n",
    "\t•\tRetaining loyal customers is cheaper than acquiring new ones.\n",
    "\t•\tChurned customers present an opportunity for re-engagement.\n",
    "\n",
    "---\n",
    "\n",
    "# **2. Which customers are at risk of churn?**\n",
    "\n",
    "**Insight:**\n",
    "\t•\tCustomers with low Recency & Frequency scores are likely to churn.\n",
    "\t•\tThese customers haven’t made a purchase in 6+ months.\n",
    "\n",
    "**Business Impact:**\n",
    "\t•\tLosing these customers means missed revenue opportunities.\n",
    "\t•\tBringing them back requires re-engagement campaigns.\n",
    "\n",
    "---\n",
    "\n",
    "# **3. How do product returns impact revenue?**\n",
    "\n",
    "**Insight:**\n",
    "\t•\tCertain products have high return rates, negatively affecting profits.\n",
    "\t•\tMost returns happen in January, likely due to post-holiday refunds.\n",
    "\n",
    "**Business Impact:**\n",
    "\t•\tHigh returns can reduce net profit margins.\n",
    "\t•\tRefund policies need optimization to minimize financial losses.\n",
    "\n",
    "---\n",
    "\n",
    "# **4. What’s the overall sales trend?**\n",
    "\n",
    "**Insight:**\n",
    "\t•\tSales show a gradual increase over the year, peaking in Q4.\n",
    "\t•\tWeekends & holidays drive higher transaction volumes.\n",
    "\n",
    "**Business Impact:**\n",
    "\t•\tUnderstanding trends helps forecast demand & optimize inventory.\n",
    "\t•\tPeak season promotions can increase revenue."
   ]
  }
 ],
 "metadata": {
  "kernelspec": {
   "display_name": "Python 3",
   "language": "python",
   "name": "python3"
  },
  "language_info": {
   "codemirror_mode": {
    "name": "ipython",
    "version": 3
   },
   "file_extension": ".py",
   "mimetype": "text/x-python",
   "name": "python",
   "nbconvert_exporter": "python",
   "pygments_lexer": "ipython3",
   "version": "3.12.7"
  }
 },
 "nbformat": 4,
 "nbformat_minor": 2
}
